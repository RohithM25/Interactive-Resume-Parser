{
  "nbformat": 4,
  "nbformat_minor": 0,
  "metadata": {
    "colab": {
      "provenance": [],
      "gpuType": "T4"
    },
    "kernelspec": {
      "name": "python3",
      "display_name": "Python 3"
    },
    "language_info": {
      "name": "python"
    },
    "accelerator": "GPU"
  },
  "cells": [
    {
      "cell_type": "code",
      "execution_count": null,
      "metadata": {
        "id": "OtX92MgxLUuy"
      },
      "outputs": [],
      "source": [
        "!pip install spacy_transformers\n",
        "!pip install -U spacy"
      ]
    },
    {
      "cell_type": "code",
      "source": [
        "import spacy\n",
        "from spacy.tokens import DocBin\n",
        "from tqdm import tqdm\n",
        "import json"
      ],
      "metadata": {
        "id": "WjYXwYSiLneF"
      },
      "execution_count": null,
      "outputs": []
    },
    {
      "cell_type": "code",
      "source": [
        "!git clone https://github.com/laxmimerit/CV-Parsing-using-Spacy-3.git"
      ],
      "metadata": {
        "id": "fa_9LeaANU-U"
      },
      "execution_count": null,
      "outputs": []
    },
    {
      "cell_type": "code",
      "source": [
        "cv_data=json.load(open('/content/CV-Parsing-using-Spacy-3/data/training/train_data.json', \"r\"))"
      ],
      "metadata": {
        "id": "wYYAezqUNeaS"
      },
      "execution_count": null,
      "outputs": []
    },
    {
      "cell_type": "code",
      "source": [
        "len(cv_data)"
      ],
      "metadata": {
        "id": "s4DNRjljNqwQ"
      },
      "execution_count": null,
      "outputs": []
    },
    {
      "cell_type": "code",
      "source": [
        "!python -m spacy init fill-config /content/CV-Parsing-using-Spacy-3/data/training/base_config.cfg /content/CV-Parsing-using-Spacy-3/data/training/config.cfg"
      ],
      "metadata": {
        "id": "TYsxw-tMNvQ0"
      },
      "execution_count": null,
      "outputs": []
    },
    {
      "cell_type": "code",
      "source": [
        "cv_data"
      ],
      "metadata": {
        "id": "JGtZPm0gN9PG"
      },
      "execution_count": null,
      "outputs": []
    },
    {
      "cell_type": "code",
      "source": [
        "def get_spacy_doc(file, data):\n",
        "    nlp = spacy.blank(\"en\")\n",
        "    db = DocBin()\n",
        "\n",
        "    for text, annot in tqdm(data):\n",
        "      doc = nlp.make_doc(text)\n",
        "      annot = annot[\"entities\"]\n",
        "\n",
        "      ents = []\n",
        "      entity_indices = []\n",
        "\n",
        "      for start, end, label in annot:\n",
        "        skip_entity = False\n",
        "        for idx in range(start, end):\n",
        "          if idx in entity_indices:\n",
        "            skip_entity = True\n",
        "            break\n",
        "        if skip_entity == True:\n",
        "          continue\n",
        "\n",
        "        entity_indices = entity_indices + list(range(start,end))\n",
        "\n",
        "        try:\n",
        "          span = doc.char_span(start,end, label=label, alignment_mode=\"strict\")\n",
        "        except:\n",
        "          continue\n",
        "\n",
        "        if span is None:\n",
        "          err_data = str([start, end]) + \"     \" + str(text) + \"\\n\"\n",
        "          file.write(err_data)\n",
        "          # files throwing errors\n",
        "\n",
        "        else:\n",
        "          ents.append(span)\n",
        "\n",
        "      try:\n",
        "        doc.ents = ents\n",
        "        db.add(doc)\n",
        "      except:\n",
        "        pass\n",
        "\n",
        "    return db\n"
      ],
      "metadata": {
        "id": "sgdDkVSwPoBo"
      },
      "execution_count": null,
      "outputs": []
    },
    {
      "cell_type": "code",
      "source": [
        "from sklearn.model_selection import train_test_split\n",
        "train, test = train_test_split(cv_data, test_size=0.3)"
      ],
      "metadata": {
        "id": "jmiZnYBOQtox"
      },
      "execution_count": null,
      "outputs": []
    },
    {
      "cell_type": "code",
      "source": [
        "file = open(\"error.txt\", \"w\")\n",
        "\n",
        "db = get_spacy_doc(file, train)\n",
        "db.to_disk(\"train_data.spacy\")\n",
        "\n",
        "db = get_spacy_doc(file, test)\n",
        "db.to_disk(\"test_data.spacy\")\n",
        "\n",
        "\n",
        "file.close()"
      ],
      "metadata": {
        "id": "ie0dqf24QwRh"
      },
      "execution_count": null,
      "outputs": []
    },
    {
      "cell_type": "code",
      "source": [
        "len(db.tokens)"
      ],
      "metadata": {
        "id": "0FQ4jappQzB-"
      },
      "execution_count": null,
      "outputs": []
    },
    {
      "cell_type": "code",
      "source": [
        "!python -m spacy train /content/CV-Parsing-using-Spacy-3/data/training/config.cfg --output ./output --paths.train ./train_data.spacy --paths.dev ./test_data.spacy"
      ],
      "metadata": {
        "id": "c2s6uphiRAaz"
      },
      "execution_count": null,
      "outputs": []
    },
    {
      "cell_type": "code",
      "source": [
        "nlp = spacy.load(\"/content/output/model-best\")"
      ],
      "metadata": {
        "id": "S12S6vuXXlX9"
      },
      "execution_count": null,
      "outputs": []
    },
    {
      "cell_type": "code",
      "source": [
        "!pip install PyMuPDF"
      ],
      "metadata": {
        "id": "zO-YNhaPUpEx"
      },
      "execution_count": null,
      "outputs": []
    },
    {
      "cell_type": "code",
      "source": [
        "import sys, fitz"
      ],
      "metadata": {
        "id": "UCROs6-UujA1"
      },
      "execution_count": null,
      "outputs": []
    },
    {
      "cell_type": "code",
      "source": [
        "fname = \"/content/CV-Parsing-using-Spacy-3/data/test/Alice Clark CV.pdf\"\n",
        "doc = fitz.open(fname)"
      ],
      "metadata": {
        "id": "7hO7A_qjuo4P"
      },
      "execution_count": null,
      "outputs": []
    },
    {
      "cell_type": "code",
      "source": [
        "text = \" \"\n",
        "for page in doc:\n",
        "  text = text + str(page.get_text())"
      ],
      "metadata": {
        "id": "gyAENqlRu161"
      },
      "execution_count": null,
      "outputs": []
    },
    {
      "cell_type": "code",
      "source": [
        "text = text.strip()"
      ],
      "metadata": {
        "id": "ZAPe2zypvDUH"
      },
      "execution_count": null,
      "outputs": []
    },
    {
      "cell_type": "code",
      "source": [
        "text = \" \".join(text.split())"
      ],
      "metadata": {
        "id": "w6l2z41qvFWl"
      },
      "execution_count": null,
      "outputs": []
    },
    {
      "cell_type": "code",
      "source": [
        "text"
      ],
      "metadata": {
        "id": "aHra5Jl7vSvZ"
      },
      "execution_count": null,
      "outputs": []
    },
    {
      "cell_type": "code",
      "source": [
        "doc = nlp(text)\n",
        "\n",
        "with open(\"output.txt\", \"w\", encoding=\"utf-8\") as file:\n",
        "    for ent in doc.ents:\n",
        "        file.write(f\"{ent.text}   -->   {ent.label_}\\n\")"
      ],
      "metadata": {
        "id": "aKBg55DUvib0"
      },
      "execution_count": null,
      "outputs": []
    }
  ]
}